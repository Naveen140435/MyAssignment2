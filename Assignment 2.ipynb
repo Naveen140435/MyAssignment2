{
 "cells": [
  {
   "cell_type": "markdown",
   "id": "7deb17b3",
   "metadata": {},
   "source": [
    "1.What are the two values of the Boolean data type? How do you write them?\n",
    "2. What are the three different types of Boolean operators?\n",
    "3. Make a list of each Boolean operator&#39;s truth tables (i.e. every possible combination of Boolean\n",
    "values for the operator and what it evaluate ).\n",
    "4. What are the values of the following expressions?\n",
    "(5 &gt; 4) and (3 == 5)\n",
    "not (5 &gt; 4)\n",
    "(5 &gt; 4) or (3 == 5)\n",
    "not ((5 &gt; 4) or (3 == 5))\n",
    "(True and True) and (True == False)\n",
    "(not False) or (not True)\n",
    "5. What are the six comparison operators?\n",
    "6. How do you tell the difference between the equal to and assignment operators?Describe a\n",
    "condition and when you would use one.\n",
    "7. Identify the three blocks in this code:\n",
    "spam = 0\n",
    "if spam == 10:\n",
    "print(&#39;eggs&#39;)\n",
    "if spam &gt; 5:\n",
    "print(&#39;bacon&#39;)\n",
    "else:\n",
    "print(&#39;ham&#39;)\n",
    "print(&#39;spam&#39;)\n",
    "print(&#39;spam&#39;)\n",
    "8. Write code that prints Hello if 1 is stored in spam, prints Howdy if 2 is stored in spam, and prints\n",
    "Greetings! if anything else is stored in spam.\n",
    "\n",
    "9.If your programme is stuck in an endless loop, what keys you’ll press?\n",
    "10. How can you tell the difference between break and continue?\n",
    "11. In a for loop, what is the difference between range(10), range(0, 10), and range(0, 10, 1)?\n",
    "12. Write a short program that prints the numbers 1 to 10 using a for loop. Then write an equivalent\n",
    "program that prints the numbers 1 to 10 using a while loop.\n",
    "13. If you had a function named bacon() inside a module named spam, how would you call it after\n",
    "importing spam?"
   ]
  },
  {
   "cell_type": "markdown",
   "id": "e7498378",
   "metadata": {},
   "source": [
    "# Question 1"
   ]
  },
  {
   "cell_type": "markdown",
   "id": "34a88ddf",
   "metadata": {},
   "source": [
    "The two types of boolean data types are True and False\n",
    "a= True, b= False"
   ]
  },
  {
   "cell_type": "markdown",
   "id": "95426ecc",
   "metadata": {},
   "source": [
    "# Question 2"
   ]
  },
  {
   "cell_type": "markdown",
   "id": "52c68755",
   "metadata": {},
   "source": [
    "The three boolean operators are AND,OR, and NOT Boolean"
   ]
  },
  {
   "cell_type": "markdown",
   "id": "41c02ac7",
   "metadata": {},
   "source": [
    "# Question3"
   ]
  },
  {
   "cell_type": "markdown",
   "id": "3f0d3d71",
   "metadata": {},
   "source": [
    "        a      b      Value\n",
    "AND     1       1      True\n",
    "OR      1       0      False\n",
    "NOT     0       0      False"
   ]
  },
  {
   "cell_type": "markdown",
   "id": "90516ec9",
   "metadata": {},
   "source": [
    "# Question 4\n"
   ]
  },
  {
   "cell_type": "markdown",
   "id": "4efba3b7",
   "metadata": {},
   "source": [
    "(5 &gt; 4) and (3 == 5) = False\n",
    "not (5 &gt; 4) = False\n",
    "(5 &gt; 4) or (3 == 5) = True\n",
    "(True and True) and (True == False) = False\n",
    "(not False) or (not True) = True\n"
   ]
  },
  {
   "cell_type": "markdown",
   "id": "d8a52005",
   "metadata": {},
   "source": [
    "# Question 5"
   ]
  },
  {
   "cell_type": "markdown",
   "id": "020fcdec",
   "metadata": {},
   "source": [
    ">,<,==,!=,<=,>="
   ]
  },
  {
   "cell_type": "markdown",
   "id": "34bf0a42",
   "metadata": {},
   "source": [
    "# question 6"
   ]
  },
  {
   "cell_type": "markdown",
   "id": "d8e33989",
   "metadata": {},
   "source": [
    "assignment operator is used to assign the value to the variable\n",
    "whereas Equal to operator is used to compare the two operators or arguments, if its equal it will return the true else it will return false.\n"
   ]
  },
  {
   "cell_type": "markdown",
   "id": "03c79114",
   "metadata": {},
   "source": [
    "# question 7"
   ]
  },
  {
   "cell_type": "markdown",
   "id": "aa5bf6ea",
   "metadata": {},
   "source": [
    "The three blocks of the code is code inside the if statement and else statement.\n"
   ]
  },
  {
   "cell_type": "markdown",
   "id": "15a0904a",
   "metadata": {},
   "source": [
    "# question 8"
   ]
  },
  {
   "cell_type": "code",
   "execution_count": null,
   "id": "d1e62a28",
   "metadata": {},
   "outputs": [],
   "source": [
    "spam = int(input(\"Enter number\"))\n",
    "if spam == 1:\n",
    "    print(\"Hello\")\n",
    "elif spam == 2:\n",
    "    print(\"Howdy\")\n",
    "else:\n",
    "    print(\"Greetings!\")"
   ]
  },
  {
   "cell_type": "markdown",
   "id": "63ef7cdb",
   "metadata": {},
   "source": [
    "# quesiton 9"
   ]
  },
  {
   "cell_type": "markdown",
   "id": "8afb2d14",
   "metadata": {},
   "source": [
    "CTRL+C is the key used to stop the endless loop"
   ]
  },
  {
   "cell_type": "markdown",
   "id": "fef83659",
   "metadata": {},
   "source": [
    "# question 10"
   ]
  },
  {
   "cell_type": "markdown",
   "id": "528cde4b",
   "metadata": {},
   "source": [
    "The break statement will terminate the loop if the condition is true\n",
    "Continue statement will skip the current iteration and pass the control for next iterations."
   ]
  },
  {
   "cell_type": "markdown",
   "id": "9a9469ee",
   "metadata": {},
   "source": [
    "# question 11"
   ]
  },
  {
   "cell_type": "markdown",
   "id": "3c0de22b",
   "metadata": {},
   "source": [
    "Range(10) this will default  starting point is  from 0 and ends at 4\n",
    "Range(0,10) it denotes starting point at first and end point at last seperated by comma\n",
    "Range(0,10,1) it denotes the starting point, ending point and step of the total range\n"
   ]
  },
  {
   "cell_type": "markdown",
   "id": "8c90b3e5",
   "metadata": {},
   "source": [
    "# quesiton 12"
   ]
  },
  {
   "cell_type": "code",
   "execution_count": null,
   "id": "7a55e39b",
   "metadata": {},
   "outputs": [],
   "source": [
    "for i in range(1,11):\n",
    "    print (i)"
   ]
  },
  {
   "cell_type": "code",
   "execution_count": null,
   "id": "2eab5c77",
   "metadata": {},
   "outputs": [],
   "source": [
    "a=0\n",
    "while(a<10):\n",
    "    a+=1\n",
    "    print(a)"
   ]
  },
  {
   "cell_type": "markdown",
   "id": "624f7425",
   "metadata": {},
   "source": [
    "# Question 13"
   ]
  },
  {
   "cell_type": "markdown",
   "id": "38507c18",
   "metadata": {},
   "source": [
    "If it contains any parameters like a,b I will call it as bacon(a,b):\n",
    "if it doesnt have any parameters I will call it as bacon()"
   ]
  },
  {
   "cell_type": "code",
   "execution_count": 9,
   "id": "658566c0",
   "metadata": {},
   "outputs": [],
   "source": [
    "def Adding():\n",
    "    a=int(input())\n",
    "    b=int(input())\n",
    "    c=int(a+b)\n",
    "    return c"
   ]
  },
  {
   "cell_type": "code",
   "execution_count": 11,
   "id": "380dc199",
   "metadata": {},
   "outputs": [
    {
     "name": "stdout",
     "output_type": "stream",
     "text": [
      "3\n",
      "5\n"
     ]
    },
    {
     "data": {
      "text/plain": [
       "8"
      ]
     },
     "execution_count": 11,
     "metadata": {},
     "output_type": "execute_result"
    }
   ],
   "source": [
    "Adding()\n",
    "    \n",
    "\n",
    "    "
   ]
  },
  {
   "cell_type": "code",
   "execution_count": null,
   "id": "3bb4dfbc",
   "metadata": {},
   "outputs": [],
   "source": []
  }
 ],
 "metadata": {
  "kernelspec": {
   "display_name": "Python 3 (ipykernel)",
   "language": "python",
   "name": "python3"
  },
  "language_info": {
   "codemirror_mode": {
    "name": "ipython",
    "version": 3
   },
   "file_extension": ".py",
   "mimetype": "text/x-python",
   "name": "python",
   "nbconvert_exporter": "python",
   "pygments_lexer": "ipython3",
   "version": "3.9.7"
  }
 },
 "nbformat": 4,
 "nbformat_minor": 5
}
